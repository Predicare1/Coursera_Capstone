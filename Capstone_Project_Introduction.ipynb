{
 "cells": [
  {
   "cell_type": "markdown",
   "metadata": {},
   "source": [
    "# Introduction/Business Problem"
   ]
  },
  {
   "cell_type": "markdown",
   "metadata": {},
   "source": [
    "#### Question: Is New York City more like Toronto? What comparison can we make about these cities?"
   ]
  },
  {
   "cell_type": "markdown",
   "metadata": {},
   "source": [
    "The aim of this project is to compare the neighbourhoods of New York and Toronto to pick out similariities and differences between these two cities.\n",
    "In addtion, recommendations would be made on how to which city is best to live in in terms of the neighbourhood they contain.\n",
    "Also, investors/business owners who want to make investments in these cities would know which business to do for each neighborhood."
   ]
  },
  {
   "cell_type": "markdown",
   "metadata": {},
   "source": [
    "## Table of Contents\n",
    "This capstone would be carried out in the following order\n",
    "\n",
    "<div class=\"alert alert-block alert-info\" style=\"margin-top: 20px\">\n",
    "\n",
    "<font size = 3>\n",
    "\n",
    "1. <a href=\"#item1\">Download and Explore Dataset</a>\n",
    "\n",
    "2. <a href=\"#item2\">Explore Neighborhoods in each City</a>\n",
    "\n",
    "3. <a href=\"#item3\">Analyze Each Neighborhood for each city</a>\n",
    "\n",
    "4. <a href=\"#item4\">Cluster Neighborhoods of each city</a>\n",
    "\n",
    "5. <a href=\"#item5\">Examine Clusters of each city</a>   \n",
    "\n",
    "6. <a href=\"#item6\">Conclusions and Recommendations</a> \n",
    "</font>\n",
    "</div>"
   ]
  }
 ],
 "metadata": {
  "kernelspec": {
   "display_name": "Python 3",
   "language": "python",
   "name": "python3"
  },
  "language_info": {
   "codemirror_mode": {
    "name": "ipython",
    "version": 3
   },
   "file_extension": ".py",
   "mimetype": "text/x-python",
   "name": "python",
   "nbconvert_exporter": "python",
   "pygments_lexer": "ipython3",
   "version": "3.6.1"
  }
 },
 "nbformat": 4,
 "nbformat_minor": 2
}
